{
 "cells": [
  {
   "cell_type": "code",
   "execution_count": 1,
   "id": "c052382c",
   "metadata": {},
   "outputs": [
    {
     "name": "stderr",
     "output_type": "stream",
     "text": [
      "c:\\Users\\Shakeel M. Shajahan\\.conda\\envs\\classifyenv\\Lib\\site-packages\\tqdm\\auto.py:21: TqdmWarning: IProgress not found. Please update jupyter and ipywidgets. See https://ipywidgets.readthedocs.io/en/stable/user_install.html\n",
      "  from .autonotebook import tqdm as notebook_tqdm\n"
     ]
    },
    {
     "name": "stdout",
     "output_type": "stream",
     "text": [
      "Dataset path: C:\\Users\\Shakeel M. Shajahan\\.cache\\kagglehub\\datasets\\arunrk7\\surface-crack-detection\\versions\\1\n"
     ]
    }
   ],
   "source": [
    "import kagglehub\n",
    "import os\n",
    "import tensorflow as tf\n",
    "\n",
    "# Download dataset\n",
    "path = kagglehub.dataset_download(\"arunrk7/surface-crack-detection\")\n",
    "print(\"Dataset path:\", path)\n"
   ]
  },
  {
   "cell_type": "code",
   "execution_count": null,
   "id": "0b8e60ef",
   "metadata": {},
   "outputs": [],
   "source": [
    "# Use image_dataset_from_directory\n",
    "# --- Load 80% train, 20% temp (val+test)\n",
    "train_temp_ds = tf.keras.utils.image_dataset_from_directory(\n",
    "    path,\n",
    "    labels=\"inferred\",          # folder names: Positive/Negative\n",
    "    label_mode=\"binary\",        # binary classification\n",
    "    image_size=(224, 224),      # resize to 224x224\n",
    "    batch_size=32,\n",
    "    shuffle=True,\n",
    "    seed=42,\n",
    "    validation_split=0.2,\n",
    "    subset=\"training\"\n",
    ")\n",
    "\n",
    "val_test_ds = tf.keras.utils.image_dataset_from_directory(\n",
    "    path,\n",
    "    labels=\"inferred\",\n",
    "    label_mode=\"binary\",\n",
    "    image_size=(224, 224),\n",
    "    batch_size=32,\n",
    "    shuffle=True,\n",
    "    seed=42,\n",
    "    validation_split=0.2,\n",
    "    subset=\"validation\"\n",
    ")\n",
    "\n",
    "# --- Split the 20% into 10% val + 10% test\n",
    "val_batches = tf.data.experimental.cardinality(val_test_ds).numpy()\n",
    "test_ds = val_test_ds.take(val_batches // 2)\n",
    "val_ds  = val_test_ds.skip(val_batches // 2)\n",
    "\n",
    "# --- Optimize pipeline\n",
    "AUTOTUNE = tf.data.AUTOTUNE\n",
    "train_ds = train_temp_ds.prefetch(AUTOTUNE)\n",
    "val_ds   = val_ds.prefetch(AUTOTUNE)\n",
    "test_ds  = test_ds.prefetch(AUTOTUNE)\n",
    "\n",
    "# --- Check dataset sizes\n",
    "print(\"Train batches:\", tf.data.experimental.cardinality(train_ds).numpy())\n",
    "print(\"Val batches:\", tf.data.experimental.cardinality(val_ds).numpy())\n",
    "print(\"Test batches:\", tf.data.experimental.cardinality(test_ds).numpy())\n",
    "\n",
    "len(train_val)\n",
    "len(val_ds)\n",
    "len(test_ds)"
   ]
  }
 ],
 "metadata": {
  "kernelspec": {
   "display_name": "classifyenv",
   "language": "python",
   "name": "python3"
  },
  "language_info": {
   "codemirror_mode": {
    "name": "ipython",
    "version": 3
   },
   "file_extension": ".py",
   "mimetype": "text/x-python",
   "name": "python",
   "nbconvert_exporter": "python",
   "pygments_lexer": "ipython3",
   "version": "3.13.0"
  }
 },
 "nbformat": 4,
 "nbformat_minor": 5
}
